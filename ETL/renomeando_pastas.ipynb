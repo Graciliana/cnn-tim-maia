{
 "cells": [
  {
   "cell_type": "markdown",
   "id": "61c54aaf",
   "metadata": {},
   "source": [
    "## import "
   ]
  },
  {
   "cell_type": "code",
   "execution_count": 1,
   "id": "f31e5788",
   "metadata": {},
   "outputs": [],
   "source": [
    "import os"
   ]
  },
  {
   "cell_type": "markdown",
   "id": "e49e61ad",
   "metadata": {},
   "source": [
    "# Renomear arquivos de uma pasta teste/chocolate\n"
   ]
  },
  {
   "cell_type": "code",
   "execution_count": 2,
   "id": "879cb67f",
   "metadata": {},
   "outputs": [],
   "source": [
    "# Caminho para a pasta onde estão os arquivos da pasta testes/chocolate\n",
    "pasta_teste_chocolate = '../data/teste/chocolate/'  \n"
   ]
  },
  {
   "cell_type": "code",
   "execution_count": 3,
   "id": "f4ed82d7",
   "metadata": {},
   "outputs": [],
   "source": [
    "## Prefixo desejado\n",
    "prefixo_choco = 'choco'"
   ]
  },
  {
   "cell_type": "code",
   "execution_count": 4,
   "id": "07eb5c92",
   "metadata": {},
   "outputs": [],
   "source": [
    "# Listar e ordenar os arquivos da pasta teste chocolate\n",
    "arquivos_chocolate = sorted([f for f in os.listdir(pasta_teste_chocolate) if f.endswith('.jpg')])"
   ]
  },
  {
   "cell_type": "code",
   "execution_count": 5,
   "id": "1c5f8afa",
   "metadata": {},
   "outputs": [
    {
     "name": "stdout",
     "output_type": "stream",
     "text": [
      "choco_100.jpg => choco_100.jpg\n",
      "choco_101.jpg => choco_101.jpg\n",
      "choco_102.jpg => choco_102.jpg\n",
      "choco_103.jpg => choco_103.jpg\n",
      "choco_104.jpg => choco_104.jpg\n",
      "choco_105.jpg => choco_105.jpg\n",
      "choco_106.jpg => choco_106.jpg\n",
      "choco_107.jpg => choco_107.jpg\n",
      "choco_108.jpg => choco_108.jpg\n",
      "choco_109.jpg => choco_109.jpg\n",
      "choco_110.jpg => choco_110.jpg\n",
      "choco_111.jpg => choco_111.jpg\n",
      "choco_112.jpg => choco_112.jpg\n"
     ]
    }
   ],
   "source": [
    "# Renomear os arquivos\n",
    "for i, nome_original in enumerate(arquivos_chocolate, start=100):\n",
    "    novo_nome = f\"{prefixo_choco}_{i}.jpg\"\n",
    "    caminho_antigo = os.path.join(pasta_teste_chocolate, nome_original)\n",
    "    caminho_novo = os.path.join(pasta_teste_chocolate, novo_nome)\n",
    "    os.rename(caminho_antigo, caminho_novo)\n",
    "    print(f\"{nome_original} => {novo_nome}\")"
   ]
  },
  {
   "cell_type": "markdown",
   "id": "e7d354a6",
   "metadata": {},
   "source": [
    "# Renomear arquivos de uma pasta testes/cocacola"
   ]
  },
  {
   "cell_type": "code",
   "execution_count": 6,
   "id": "7167f17f",
   "metadata": {},
   "outputs": [],
   "source": [
    "# Caminho para a pasta onde estão os arquivos da pasta testes/cocacola  \n",
    "pasta_teste_cocacola = '../data/teste/cocacola/' \n"
   ]
  },
  {
   "cell_type": "code",
   "execution_count": 7,
   "id": "2f8b2e3f",
   "metadata": {},
   "outputs": [],
   "source": [
    "## Prefixo desejado\n",
    "prefixo_cocacola = 'cocacola'\n"
   ]
  },
  {
   "cell_type": "code",
   "execution_count": 8,
   "id": "4089f075",
   "metadata": {},
   "outputs": [],
   "source": [
    "# Listar e ordenar os arquivos da pasta teste chocolate\n",
    "arquivos_cocacola = sorted([f for f in os.listdir(pasta_teste_cocacola) if f.endswith('.jpg')])"
   ]
  },
  {
   "cell_type": "code",
   "execution_count": 9,
   "id": "2b64bb0e",
   "metadata": {},
   "outputs": [
    {
     "name": "stdout",
     "output_type": "stream",
     "text": [
      "cocacola_200.jpg => cocacola_200.jpg\n",
      "cocacola_201.jpg => cocacola_201.jpg\n",
      "cocacola_202.jpg => cocacola_202.jpg\n",
      "cocacola_203.jpg => cocacola_203.jpg\n",
      "cocacola_204.jpg => cocacola_204.jpg\n",
      "cocacola_205.jpg => cocacola_205.jpg\n",
      "cocacola_206.jpg => cocacola_206.jpg\n",
      "cocacola_207.jpg => cocacola_207.jpg\n"
     ]
    }
   ],
   "source": [
    "# Renomear os arquivos\n",
    "for i, nome_original in enumerate(arquivos_cocacola, start=200):\n",
    "    novo_nome = f\"{prefixo_cocacola}_{i}.jpg\"\n",
    "    caminho_antigo = os.path.join(pasta_teste_cocacola, nome_original)\n",
    "    caminho_novo = os.path.join(pasta_teste_cocacola, novo_nome)\n",
    "    os.rename(caminho_antigo, caminho_novo)\n",
    "    print(f\"{nome_original} => {novo_nome}\")"
   ]
  },
  {
   "cell_type": "markdown",
   "id": "913a2c64",
   "metadata": {},
   "source": [
    "# Renomear arquivos de uma pasta testes/guarana"
   ]
  },
  {
   "cell_type": "code",
   "execution_count": 10,
   "id": "99078f4e",
   "metadata": {},
   "outputs": [],
   "source": [
    "# Caminho para a pasta onde estão os arquivos da pasta testes/guarana\n",
    "pasta_teste_guarana = '../data/teste/guarana/'"
   ]
  },
  {
   "cell_type": "code",
   "execution_count": 11,
   "id": "dd13589b",
   "metadata": {},
   "outputs": [],
   "source": [
    "## Prefixo desejado\n",
    "prefixo_guarana = 'guarana'"
   ]
  },
  {
   "cell_type": "code",
   "execution_count": 12,
   "id": "e0302918",
   "metadata": {},
   "outputs": [],
   "source": [
    "# Listar e ordenar os arquivos da pasta teste guarana\n",
    "arquivos_guarana = sorted([f for f in os.listdir(pasta_teste_guarana) if f.endswith('.jpg')])"
   ]
  },
  {
   "cell_type": "code",
   "execution_count": 13,
   "id": "da48b6ae",
   "metadata": {},
   "outputs": [
    {
     "name": "stdout",
     "output_type": "stream",
     "text": [
      "guarana_300.jpg => guarana_300.jpg\n",
      "guarana_301.jpg => guarana_301.jpg\n",
      "guarana_302.jpg => guarana_302.jpg\n",
      "guarana_303.jpg => guarana_303.jpg\n",
      "guarana_304.jpg => guarana_304.jpg\n",
      "guarana_305.jpg => guarana_305.jpg\n",
      "images.jpg => guarana_306.jpg\n"
     ]
    }
   ],
   "source": [
    "# Renomear os arquivos\n",
    "for i, nome_original in enumerate(arquivos_guarana, start=300):\n",
    "    novo_nome = f\"{prefixo_guarana}_{i}.jpg\"\n",
    "    caminho_antigo = os.path.join(pasta_teste_guarana, nome_original)\n",
    "    caminho_novo = os.path.join(pasta_teste_guarana, novo_nome)\n",
    "    os.rename(caminho_antigo, caminho_novo)\n",
    "    print(f\"{nome_original} => {novo_nome}\")"
   ]
  },
  {
   "cell_type": "markdown",
   "id": "cccc6ad1",
   "metadata": {},
   "source": [
    "# Renomear arquivos de uma pasta treino/chocolate"
   ]
  },
  {
   "cell_type": "code",
   "execution_count": 14,
   "id": "e7b83ebe",
   "metadata": {},
   "outputs": [
    {
     "name": "stdout",
     "output_type": "stream",
     "text": [
      "choco_400.jpg => choco_400.jpg\n",
      "choco_401.jpg => choco_401.jpg\n",
      "choco_402.jpg => choco_402.jpg\n",
      "choco_403.jpg => choco_403.jpg\n",
      "choco_404.jpg => choco_404.jpg\n",
      "choco_405.jpg => choco_405.jpg\n",
      "choco_406.jpg => choco_406.jpg\n",
      "choco_407.jpg => choco_407.jpg\n",
      "choco_408.jpg => choco_408.jpg\n",
      "choco_409.jpg => choco_409.jpg\n",
      "choco_410.jpg => choco_410.jpg\n",
      "choco_411.jpg => choco_411.jpg\n",
      "choco_412.jpg => choco_412.jpg\n",
      "choco_413.jpg => choco_413.jpg\n",
      "choco_414.jpg => choco_414.jpg\n",
      "choco_415.jpg => choco_415.jpg\n",
      "choco_416.jpg => choco_416.jpg\n",
      "choco_417.jpg => choco_417.jpg\n",
      "choco_418.jpg => choco_418.jpg\n",
      "choco_419.jpg => choco_419.jpg\n",
      "choco_420.jpg => choco_420.jpg\n",
      "choco_421.jpg => choco_421.jpg\n",
      "choco_422.jpg => choco_422.jpg\n",
      "choco_423.jpg => choco_423.jpg\n",
      "choco_424.jpg => choco_424.jpg\n",
      "choco_425.jpg => choco_425.jpg\n",
      "choco_426.jpg => choco_426.jpg\n",
      "choco_427.jpg => choco_427.jpg\n",
      "choco_428.jpg => choco_428.jpg\n",
      "choco_429.jpg => choco_429.jpg\n"
     ]
    }
   ],
   "source": [
    "# Renomear arquivos de uma pasta treino/chocolate\n",
    "# Caminho para a pasta onde estão os arquivos da pasta testes/chocolate\n",
    "pasta_treino_chocolate = '../data/treino/chocolate/'  \n",
    "\n",
    "## Prefixo desejado\n",
    "prefixo_choco = 'choco'\n",
    "\n",
    "# Listar e ordenar os arquivos da pasta treino chocolate\n",
    "arquivos_chocolate = sorted([f for f in os.listdir(pasta_treino_chocolate) if f.endswith('.jpg')])\n",
    "\n",
    "# Renomear os arquivos\n",
    "for i, nome_original in enumerate(arquivos_chocolate, start=400):\n",
    "    novo_nome = f\"{prefixo_choco}_{i}.jpg\"\n",
    "    caminho_antigo = os.path.join(pasta_treino_chocolate, nome_original)\n",
    "    caminho_novo = os.path.join(pasta_treino_chocolate, novo_nome)\n",
    "    os.rename(caminho_antigo, caminho_novo)\n",
    "    print(f\"{nome_original} => {novo_nome}\")\n"
   ]
  },
  {
   "cell_type": "markdown",
   "id": "1389663e",
   "metadata": {},
   "source": [
    "# Renomear arquivos de uma pasta treino/cocacola"
   ]
  },
  {
   "cell_type": "code",
   "execution_count": 15,
   "id": "6f1d0a79",
   "metadata": {},
   "outputs": [
    {
     "name": "stdout",
     "output_type": "stream",
     "text": [
      "cocacola_500.jpg => cocacola_500.jpg\n",
      "cocacola_501.jpg => cocacola_501.jpg\n",
      "cocacola_502.jpg => cocacola_502.jpg\n",
      "cocacola_503.jpg => cocacola_503.jpg\n",
      "cocacola_504.jpg => cocacola_504.jpg\n",
      "cocacola_505.jpg => cocacola_505.jpg\n",
      "cocacola_506.jpg => cocacola_506.jpg\n",
      "cocacola_507.jpg => cocacola_507.jpg\n",
      "cocacola_508.jpg => cocacola_508.jpg\n",
      "cocacola_509.jpg => cocacola_509.jpg\n",
      "cocacola_510.jpg => cocacola_510.jpg\n",
      "cocacola_511.jpg => cocacola_511.jpg\n",
      "cocacola_512.jpg => cocacola_512.jpg\n",
      "cocacola_513.jpg => cocacola_513.jpg\n",
      "cocacola_514.jpg => cocacola_514.jpg\n",
      "cocacola_515.jpg => cocacola_515.jpg\n",
      "cocacola_516.jpg => cocacola_516.jpg\n",
      "cocacola_517.jpg => cocacola_517.jpg\n",
      "cocacola_518.jpg => cocacola_518.jpg\n",
      "cocacola_519.jpg => cocacola_519.jpg\n",
      "cocacola_520.jpg => cocacola_520.jpg\n",
      "cocacola_521.jpg => cocacola_521.jpg\n",
      "cocacola_522.jpg => cocacola_522.jpg\n",
      "cocacola_523.jpg => cocacola_523.jpg\n",
      "cocacola_524.jpg => cocacola_524.jpg\n",
      "cocacola_525.jpg => cocacola_525.jpg\n",
      "cocacola_526.jpg => cocacola_526.jpg\n",
      "cocacola_527.jpg => cocacola_527.jpg\n",
      "cocacola_528.jpg => cocacola_528.jpg\n",
      "cocacola_529.jpg => cocacola_529.jpg\n",
      "cocacola_530.jpg => cocacola_530.jpg\n",
      "cocacola_531.jpg => cocacola_531.jpg\n",
      "cocacola_532.jpg => cocacola_532.jpg\n"
     ]
    }
   ],
   "source": [
    "# Caminho para a pasta onde estão os arquivos da pasta treino/cocacola  \n",
    "pasta_treino_cocacola = '../data/treino/cocacola/' \n",
    "\n",
    "## Prefixo desejado\n",
    "prefixo_cocacola = 'cocacola'\n",
    "\n",
    "# Listar e ordenar os arquivos da pasta teste chocolate\n",
    "arquivos_cocacola = sorted([f for f in os.listdir(pasta_treino_cocacola) if f.endswith('.jpg')])\n",
    "\n",
    "\n",
    "# Renomear os arquivos\n",
    "for i, nome_original in enumerate(arquivos_cocacola, start=500):\n",
    "    novo_nome = f\"{prefixo_cocacola}_{i}.jpg\"\n",
    "    caminho_antigo = os.path.join(pasta_treino_cocacola, nome_original)\n",
    "    caminho_novo = os.path.join(pasta_treino_cocacola, novo_nome)\n",
    "    os.rename(caminho_antigo, caminho_novo)\n",
    "    print(f\"{nome_original} => {novo_nome}\")"
   ]
  },
  {
   "cell_type": "markdown",
   "id": "bcc3a8b8",
   "metadata": {},
   "source": [
    "# Renomear arquivos de uma pasta treino/guarana"
   ]
  },
  {
   "cell_type": "code",
   "execution_count": 16,
   "id": "1db61eef",
   "metadata": {},
   "outputs": [
    {
     "name": "stdout",
     "output_type": "stream",
     "text": [
      "guarana_600.jpg => guarana_600.jpg\n",
      "guarana_601.jpg => guarana_601.jpg\n",
      "guarana_602.jpg => guarana_602.jpg\n",
      "guarana_603.jpg => guarana_603.jpg\n",
      "guarana_604.jpg => guarana_604.jpg\n",
      "guarana_605.jpg => guarana_605.jpg\n",
      "guarana_606.jpg => guarana_606.jpg\n",
      "guarana_607.jpg => guarana_607.jpg\n",
      "guarana_608.jpg => guarana_608.jpg\n",
      "guarana_609.jpg => guarana_609.jpg\n",
      "guarana_610.jpg => guarana_610.jpg\n",
      "guarana_611.jpg => guarana_611.jpg\n",
      "guarana_612.jpg => guarana_612.jpg\n",
      "guarana_613.jpg => guarana_613.jpg\n",
      "guarana_614.jpg => guarana_614.jpg\n",
      "guarana_615.jpg => guarana_615.jpg\n",
      "guarana_616.jpg => guarana_616.jpg\n",
      "guarana_617.jpg => guarana_617.jpg\n",
      "guarana_618.jpg => guarana_618.jpg\n",
      "guarana_619.jpg => guarana_619.jpg\n",
      "guarana_620.jpg => guarana_620.jpg\n",
      "guarana_621.jpg => guarana_621.jpg\n"
     ]
    }
   ],
   "source": [
    "# Caminho para a pasta onde estão os arquivos da pasta testes/guarana\n",
    "pasta_treino_guarana = '../data/treino/guarana/'\n",
    "\n",
    "## Prefixo desejado\n",
    "prefixo_guarana = 'guarana'\n",
    "\n",
    "# Listar e ordenar os arquivos da pasta teste guarana\n",
    "arquivos_guarana = sorted([f for f in os.listdir(pasta_treino_guarana) if f.endswith('.jpg')])\n",
    "\n",
    "# Renomear os arquivos\n",
    "for i, nome_original in enumerate(arquivos_guarana, start=600):\n",
    "    novo_nome = f\"{prefixo_guarana}_{i}.jpg\"\n",
    "    caminho_antigo = os.path.join(pasta_treino_guarana, nome_original)\n",
    "    caminho_novo = os.path.join(pasta_treino_guarana, novo_nome)\n",
    "    os.rename(caminho_antigo, caminho_novo)\n",
    "    print(f\"{nome_original} => {novo_nome}\")"
   ]
  },
  {
   "cell_type": "markdown",
   "id": "88924806",
   "metadata": {},
   "source": [
    "# Renomear arquivos de uma pasta validacao/chocolate"
   ]
  },
  {
   "cell_type": "code",
   "execution_count": 17,
   "id": "c1274af6",
   "metadata": {},
   "outputs": [
    {
     "name": "stdout",
     "output_type": "stream",
     "text": [
      "choco_400.jpg => choco_400.jpg\n",
      "choco_401.jpg => choco_401.jpg\n",
      "choco_402.jpg => choco_402.jpg\n",
      "choco_403.jpg => choco_403.jpg\n",
      "choco_404.jpg => choco_404.jpg\n"
     ]
    }
   ],
   "source": [
    "# Renomear arquivos de uma pasta validação/chocolate\n",
    "# Caminho para a pasta onde estão os arquivos da pasta validacao/chocolate\n",
    "pasta_validacao_chocolate = '../data/validacao/chocolate/'  \n",
    "\n",
    "## Prefixo desejado\n",
    "prefixo_choco = 'choco'\n",
    "\n",
    "# Listar e ordenar os arquivos da pasta treino chocolate\n",
    "arquivos_chocolate = sorted([f for f in os.listdir(pasta_validacao_chocolate) if f.endswith('.jpg')])\n",
    "\n",
    "# Renomear os arquivos\n",
    "for i, nome_original in enumerate(arquivos_chocolate, start=400):\n",
    "    novo_nome = f\"{prefixo_choco}_{i}.jpg\"\n",
    "    caminho_antigo = os.path.join(pasta_validacao_chocolate, nome_original)\n",
    "    caminho_novo = os.path.join(pasta_validacao_chocolate, novo_nome)\n",
    "    os.rename(caminho_antigo, caminho_novo)\n",
    "    print(f\"{nome_original} => {novo_nome}\")"
   ]
  },
  {
   "cell_type": "markdown",
   "id": "bcb0f1e9",
   "metadata": {},
   "source": [
    "# Renomear arquivos de uma pasta validacao/cococola"
   ]
  },
  {
   "cell_type": "code",
   "execution_count": 18,
   "id": "11398499",
   "metadata": {},
   "outputs": [
    {
     "name": "stdout",
     "output_type": "stream",
     "text": [
      "cocacola_500.jpg => cocacola_500.jpg\n",
      "cocacola_501.jpg => cocacola_501.jpg\n",
      "cocacola_502.jpg => cocacola_502.jpg\n",
      "cocacola_503.jpg => cocacola_503.jpg\n",
      "cocacola_504.jpg => cocacola_504.jpg\n"
     ]
    }
   ],
   "source": [
    "# Caminho para a pasta onde estão os arquivos da pasta treino/cocacola  \n",
    "pasta_validacao_cocacola = '../data/validacao/cocacola/' \n",
    "\n",
    "## Prefixo desejado\n",
    "prefixo_cocacola = 'cocacola'\n",
    "\n",
    "# Listar e ordenar os arquivos da pasta teste chocolate\n",
    "arquivos_cocacola = sorted([f for f in os.listdir(pasta_validacao_cocacola) if f.endswith('.jpg')])\n",
    "\n",
    "\n",
    "# Renomear os arquivos\n",
    "for i, nome_original in enumerate(arquivos_cocacola, start=500):\n",
    "    novo_nome = f\"{prefixo_cocacola}_{i}.jpg\"\n",
    "    caminho_antigo = os.path.join(pasta_validacao_cocacola, nome_original)\n",
    "    caminho_novo = os.path.join(pasta_validacao_cocacola, novo_nome)\n",
    "    os.rename(caminho_antigo, caminho_novo)\n",
    "    print(f\"{nome_original} => {novo_nome}\")"
   ]
  },
  {
   "cell_type": "markdown",
   "id": "7079ebac",
   "metadata": {},
   "source": [
    "# Renomear arquivos de uma pasta validacao/GUARANA"
   ]
  },
  {
   "cell_type": "code",
   "execution_count": 19,
   "id": "027f8efc",
   "metadata": {},
   "outputs": [
    {
     "name": "stdout",
     "output_type": "stream",
     "text": [
      "guarana_600.jpg => guarana_600.jpg\n",
      "guarana_601.jpg => guarana_601.jpg\n",
      "guarana_602.jpg => guarana_602.jpg\n",
      "guarana_603.jpg => guarana_603.jpg\n",
      "guarana_604.jpg => guarana_604.jpg\n"
     ]
    }
   ],
   "source": [
    "# Caminho para a pasta onde estão os arquivos da pasta testes/guarana\n",
    "pasta_validacao_guarana = '../data/validacao/guarana/'\n",
    "\n",
    "## Prefixo desejado\n",
    "prefixo_guarana = 'guarana'\n",
    "\n",
    "# Listar e ordenar os arquivos da pasta teste guarana\n",
    "arquivos_guarana = sorted([f for f in os.listdir(pasta_validacao_guarana) if f.endswith('.jpg')])\n",
    "\n",
    "# Renomear os arquivos\n",
    "for i, nome_original in enumerate(arquivos_guarana, start=600):\n",
    "    novo_nome = f\"{prefixo_guarana}_{i}.jpg\"\n",
    "    caminho_antigo = os.path.join(pasta_validacao_guarana, nome_original)\n",
    "    caminho_novo = os.path.join(pasta_validacao_guarana, novo_nome)\n",
    "    os.rename(caminho_antigo, caminho_novo)\n",
    "    print(f\"{nome_original} => {novo_nome}\")"
   ]
  },
  {
   "cell_type": "code",
   "execution_count": null,
   "id": "f0645323",
   "metadata": {},
   "outputs": [],
   "source": []
  }
 ],
 "metadata": {
  "kernelspec": {
   "display_name": "Python 3 (ipykernel)",
   "language": "python",
   "name": "python3"
  },
  "language_info": {
   "codemirror_mode": {
    "name": "ipython",
    "version": 3
   },
   "file_extension": ".py",
   "mimetype": "text/x-python",
   "name": "python",
   "nbconvert_exporter": "python",
   "pygments_lexer": "ipython3",
   "version": "3.11.5"
  }
 },
 "nbformat": 4,
 "nbformat_minor": 5
}
